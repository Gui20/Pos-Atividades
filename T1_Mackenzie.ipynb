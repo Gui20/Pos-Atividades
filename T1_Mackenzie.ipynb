{
  "nbformat": 4,
  "nbformat_minor": 0,
  "metadata": {
    "colab": {
      "provenance": []
    },
    "kernelspec": {
      "name": "python3",
      "display_name": "Python 3"
    },
    "language_info": {
      "name": "python"
    }
  },
  "cells": [
    {
      "cell_type": "markdown",
      "source": [
        "# Atividade T1"
      ],
      "metadata": {
        "id": "rIu8xoYSZUG7"
      }
    },
    {
      "cell_type": "markdown",
      "source": [
        "## Obtendo texto a ser analisado"
      ],
      "metadata": {
        "id": "RPyxfJdts36v"
      }
    },
    {
      "cell_type": "markdown",
      "source": [
        "### Introdução"
      ],
      "metadata": {
        "id": "PKcix9vaOf8Z"
      }
    },
    {
      "cell_type": "markdown",
      "source": [
        "O texto escolhido foi um artigo do Medium sobre data science. Testei com outras fontes, matérias etc, porém o resultado com a melhor visualização foi esse."
      ],
      "metadata": {
        "id": "z-qbdTe_Okxx"
      }
    },
    {
      "cell_type": "code",
      "execution_count": 22,
      "metadata": {
        "id": "38p95jvvZplR"
      },
      "outputs": [],
      "source": [
        "s = \"\"\" O mundo está coletando mais dados do que nunca. Com isso, você pode alcançar coisas que pareciam impossíveis alguns anos atrás.\n",
        "Ciência de dados é a disciplina que torna dados em algo útil.\n",
        "Os três subcampos de ciência de dados incluem mineração de grandes quantidades de informação para inspiração (análise de dados), tomada de decisões sábias baseadas em informação limitada (estatística), e utilização de padrões em dados para automação de tarefas (AP/IA).\n",
        "A educação em ciência de dados faz muito para garantir que as pessoas se tornem arquitetas de seus próprios futuros brilhantes.\n",
        "IA representa um salto fundamental no progresso humano e abre um futuro emocionante com oportunidades sem precedentes. Todos devem ser parte desse futuro e participar de suas ideias, então eu escrevo para todos e não apenas para os especialistas. Eu não quero que pessoas percam a oportunidade de tornar seus sonhos reais. Com a ajuda de tradutores incríveis, podemos derrubar a barreira de idiomas também!\n",
        "Essa página traz uma coleção de artigos em português para principiantes - esperamos que vocês aproveitem!\n",
        "**********************************************************\n",
        "A explicação mais simples sobre aprendizado de máquina que você lerá\n",
        "Você provavelmente ouviu falar sobre aprendizado de máquina e inteligência artificial. Mas você tem certeza do que se trata? Se você está com dificuldades de entender, você não está só. Fala-se muito sobre isso que é difícil separar o joio do trigo. A começar pela nomenclatura\n",
        "O guia definitivo para começar com IA\n",
        "Muitos times tentam começar um projeto de IA aplicada por mergulhar em algoritmos e dados antes de descobrir os outputs e objetivos desejados. Infelizmente, isto é como criar um cachorrinho em um apartamento em Nova Iorque por alguns anos e então se surpreender que ele não consiga guiar ovelhas por aí\n",
        "Por que as empresas falham no aprendizado de máquina?\n",
        "Imagine contratar um chef para fabricar um forno ou um engenheiro elétrico fazer pão para você. Quando falamos sobre aprendizado de máquina, esse é o mesmo tipo de erro que vejo as empresas cometerem repetidamente…\n",
        "Você está usando o termo 'IA' incorretamente?\n",
        "Pronto, falei: eu não me importo que a indústria use 'IA' ou 'aprendizagem de máquina' (ou 'AI' e 'machine learning' em inglês) para a mesma coisa. Mas é tecnicamente correto? É um desleixo? E se formos ser minuciosos, quem exatamente está usando o termo ‘IA’ incorretamente?\n",
        "Desmistificando aprendizado não supervisionado\n",
        "Aprendizado não supervisionado soa como uma forma bonita de dizer \"deixe as crianças aprenderem sozinhas que não devem encostar no forno\" mas na verdade é uma técnica de busca de padrões para inspirar mineração de dados. Não tem nenhuma relação com máquinas correndo por aí sem supervisão de um adulto, formando suas próprias opiniões sobre as coisas. Vamos desmistificar\n",
        "Imagine uma ilha dos bêbados… Recomendações para encontrar casos de uso para IA\n",
        "Anime-se! O futuro está aqui: aprendizado de máquina e IA te permitem automatizar o inefável! Parece ótimo se apenas você soubesse como identificar um bom caso de uso.\n",
        "Para ajudar você a aproveitar essa maravilhosa tecnologia, eu tenho um truque que você pode usar para identificar tarefas que são perfeitas para aprendizado de máquina e IA. É parecido com uma meditação guiada desenvolvida para alcançar seu momento aha!\n",
        "\n",
        "\"\"\"\n"
      ]
    },
    {
      "cell_type": "markdown",
      "source": [
        "## Tratando texto, substituindo caracteres especiais"
      ],
      "metadata": {
        "id": "ANEJ0NMrs_da"
      }
    },
    {
      "cell_type": "code",
      "source": [
        "s = s.lower().replace(',', '').replace('(','').replace(')', '').replace('.', '').replace('!', '').replace(':', '').replace('-', '').replace('?', '').replace('*', '').replace(\"'\", '').replace('\"', '')\n",
        "print(s)"
      ],
      "metadata": {
        "colab": {
          "base_uri": "https://localhost:8080/",
          "height": 0
        },
        "id": "JGFX0J_ubel7",
        "outputId": "846bf9f2-4d38-4329-f583-d1e91104e04f"
      },
      "execution_count": 23,
      "outputs": [
        {
          "output_type": "stream",
          "name": "stdout",
          "text": [
            " o mundo está coletando mais dados do que nunca com isso você pode alcançar coisas que pareciam impossíveis alguns anos atrás\n",
            "ciência de dados é a disciplina que torna dados em algo útil\n",
            "os três subcampos de ciência de dados incluem mineração de grandes quantidades de informação para inspiração análise de dados tomada de decisões sábias baseadas em informação limitada estatística e utilização de padrões em dados para automação de tarefas ap/ia\n",
            "a educação em ciência de dados faz muito para garantir que as pessoas se tornem arquitetas de seus próprios futuros brilhantes\n",
            "ia representa um salto fundamental no progresso humano e abre um futuro emocionante com oportunidades sem precedentes todos devem ser parte desse futuro e participar de suas ideias então eu escrevo para todos e não apenas para os especialistas eu não quero que pessoas percam a oportunidade de tornar seus sonhos reais com a ajuda de tradutores incríveis podemos derrubar a barreira de idiomas também\n",
            "essa página traz uma coleção de artigos em português para principiantes  esperamos que vocês aproveitem\n",
            "\n",
            "a explicação mais simples sobre aprendizado de máquina que você lerá\n",
            "você provavelmente ouviu falar sobre aprendizado de máquina e inteligência artificial mas você tem certeza do que se trata se você está com dificuldades de entender você não está só falase muito sobre isso que é difícil separar o joio do trigo a começar pela nomenclatura\n",
            "o guia definitivo para começar com ia\n",
            "muitos times tentam começar um projeto de ia aplicada por mergulhar em algoritmos e dados antes de descobrir os outputs e objetivos desejados infelizmente isto é como criar um cachorrinho em um apartamento em nova iorque por alguns anos e então se surpreender que ele não consiga guiar ovelhas por aí\n",
            "por que as empresas falham no aprendizado de máquina\n",
            "imagine contratar um chef para fabricar um forno ou um engenheiro elétrico fazer pão para você quando falamos sobre aprendizado de máquina esse é o mesmo tipo de erro que vejo as empresas cometerem repetidamente…\n",
            "você está usando o termo ia incorretamente\n",
            "pronto falei eu não me importo que a indústria use ia ou aprendizagem de máquina ou ai e machine learning em inglês para a mesma coisa mas é tecnicamente correto é um desleixo e se formos ser minuciosos quem exatamente está usando o termo ‘ia’ incorretamente\n",
            "desmistificando aprendizado não supervisionado\n",
            "aprendizado não supervisionado soa como uma forma bonita de dizer deixe as crianças aprenderem sozinhas que não devem encostar no forno mas na verdade é uma técnica de busca de padrões para inspirar mineração de dados não tem nenhuma relação com máquinas correndo por aí sem supervisão de um adulto formando suas próprias opiniões sobre as coisas vamos desmistificar\n",
            "imagine uma ilha dos bêbados… recomendações para encontrar casos de uso para ia\n",
            "animese o futuro está aqui aprendizado de máquina e ia te permitem automatizar o inefável parece ótimo se apenas você soubesse como identificar um bom caso de uso\n",
            "para ajudar você a aproveitar essa maravilhosa tecnologia eu tenho um truque que você pode usar para identificar tarefas que são perfeitas para aprendizado de máquina e ia é parecido com uma meditação guiada desenvolvida para alcançar seu momento aha\n",
            "\n",
            "\n"
          ]
        }
      ]
    },
    {
      "cell_type": "markdown",
      "source": [
        "## Criando dicionário com as quantidades de aparições das palavras mencionadas no texto"
      ],
      "metadata": {
        "id": "v_1MQXX3tJzD"
      }
    },
    {
      "cell_type": "code",
      "source": [
        "d = {}\n",
        "\n",
        "for word in s.split():                     \n",
        "    if word not in d.keys():                             \n",
        "      d[word] = 1                                 \n",
        "    else:                                               \n",
        "      d[word] =  d[word] + 1                 \n",
        "\n",
        "print(d)"
      ],
      "metadata": {
        "colab": {
          "base_uri": "https://localhost:8080/",
          "height": 0
        },
        "id": "MJtnGhpqctHp",
        "outputId": "74a00fd0-ea49-49c1-8009-17e9ddf74da8"
      },
      "execution_count": 24,
      "outputs": [
        {
          "output_type": "stream",
          "name": "stdout",
          "text": [
            "{'o': 8, 'mundo': 1, 'está': 6, 'coletando': 1, 'mais': 2, 'dados': 9, 'do': 3, 'que': 16, 'nunca': 1, 'com': 7, 'isso': 2, 'você': 11, 'pode': 2, 'alcançar': 2, 'coisas': 2, 'pareciam': 1, 'impossíveis': 1, 'alguns': 2, 'anos': 2, 'atrás': 1, 'ciência': 3, 'de': 34, 'é': 8, 'a': 10, 'disciplina': 1, 'torna': 1, 'em': 9, 'algo': 1, 'útil': 1, 'os': 3, 'três': 1, 'subcampos': 1, 'incluem': 1, 'mineração': 2, 'grandes': 1, 'quantidades': 1, 'informação': 2, 'para': 17, 'inspiração': 1, 'análise': 1, 'tomada': 1, 'decisões': 1, 'sábias': 1, 'baseadas': 1, 'limitada': 1, 'estatística': 1, 'e': 12, 'utilização': 1, 'padrões': 2, 'automação': 1, 'tarefas': 2, 'ap/ia': 1, 'educação': 1, 'faz': 1, 'muito': 2, 'garantir': 1, 'as': 5, 'pessoas': 2, 'se': 6, 'tornem': 1, 'arquitetas': 1, 'seus': 2, 'próprios': 1, 'futuros': 1, 'brilhantes': 1, 'ia': 8, 'representa': 1, 'um': 12, 'salto': 1, 'fundamental': 1, 'no': 3, 'progresso': 1, 'humano': 1, 'abre': 1, 'futuro': 3, 'emocionante': 1, 'oportunidades': 1, 'sem': 2, 'precedentes': 1, 'todos': 2, 'devem': 2, 'ser': 2, 'parte': 1, 'desse': 1, 'participar': 1, 'suas': 2, 'ideias': 1, 'então': 2, 'eu': 4, 'escrevo': 1, 'não': 9, 'apenas': 2, 'especialistas': 1, 'quero': 1, 'percam': 1, 'oportunidade': 1, 'tornar': 1, 'sonhos': 1, 'reais': 1, 'ajuda': 1, 'tradutores': 1, 'incríveis': 1, 'podemos': 1, 'derrubar': 1, 'barreira': 1, 'idiomas': 1, 'também': 1, 'essa': 2, 'página': 1, 'traz': 1, 'uma': 5, 'coleção': 1, 'artigos': 1, 'português': 1, 'principiantes': 1, 'esperamos': 1, 'vocês': 1, 'aproveitem': 1, 'explicação': 1, 'simples': 1, 'sobre': 5, 'aprendizado': 8, 'máquina': 7, 'lerá': 1, 'provavelmente': 1, 'ouviu': 1, 'falar': 1, 'inteligência': 1, 'artificial': 1, 'mas': 3, 'tem': 2, 'certeza': 1, 'trata': 1, 'dificuldades': 1, 'entender': 1, 'só': 1, 'falase': 1, 'difícil': 1, 'separar': 1, 'joio': 1, 'trigo': 1, 'começar': 3, 'pela': 1, 'nomenclatura': 1, 'guia': 1, 'definitivo': 1, 'muitos': 1, 'times': 1, 'tentam': 1, 'projeto': 1, 'aplicada': 1, 'por': 5, 'mergulhar': 1, 'algoritmos': 1, 'antes': 1, 'descobrir': 1, 'outputs': 1, 'objetivos': 1, 'desejados': 1, 'infelizmente': 1, 'isto': 1, 'como': 3, 'criar': 1, 'cachorrinho': 1, 'apartamento': 1, 'nova': 1, 'iorque': 1, 'surpreender': 1, 'ele': 1, 'consiga': 1, 'guiar': 1, 'ovelhas': 1, 'aí': 2, 'empresas': 2, 'falham': 1, 'imagine': 2, 'contratar': 1, 'chef': 1, 'fabricar': 1, 'forno': 2, 'ou': 3, 'engenheiro': 1, 'elétrico': 1, 'fazer': 1, 'pão': 1, 'quando': 1, 'falamos': 1, 'esse': 1, 'mesmo': 1, 'tipo': 1, 'erro': 1, 'vejo': 1, 'cometerem': 1, 'repetidamente…': 1, 'usando': 2, 'termo': 2, 'incorretamente': 2, 'pronto': 1, 'falei': 1, 'me': 1, 'importo': 1, 'indústria': 1, 'use': 1, 'aprendizagem': 1, 'ai': 1, 'machine': 1, 'learning': 1, 'inglês': 1, 'mesma': 1, 'coisa': 1, 'tecnicamente': 1, 'correto': 1, 'desleixo': 1, 'formos': 1, 'minuciosos': 1, 'quem': 1, 'exatamente': 1, '‘ia’': 1, 'desmistificando': 1, 'supervisionado': 2, 'soa': 1, 'forma': 1, 'bonita': 1, 'dizer': 1, 'deixe': 1, 'crianças': 1, 'aprenderem': 1, 'sozinhas': 1, 'encostar': 1, 'na': 1, 'verdade': 1, 'técnica': 1, 'busca': 1, 'inspirar': 1, 'nenhuma': 1, 'relação': 1, 'máquinas': 1, 'correndo': 1, 'supervisão': 1, 'adulto': 1, 'formando': 1, 'próprias': 1, 'opiniões': 1, 'vamos': 1, 'desmistificar': 1, 'ilha': 1, 'dos': 1, 'bêbados…': 1, 'recomendações': 1, 'encontrar': 1, 'casos': 1, 'uso': 2, 'animese': 1, 'aqui': 1, 'te': 1, 'permitem': 1, 'automatizar': 1, 'inefável': 1, 'parece': 1, 'ótimo': 1, 'soubesse': 1, 'identificar': 2, 'bom': 1, 'caso': 1, 'ajudar': 1, 'aproveitar': 1, 'maravilhosa': 1, 'tecnologia': 1, 'tenho': 1, 'truque': 1, 'usar': 1, 'são': 1, 'perfeitas': 1, 'parecido': 1, 'meditação': 1, 'guiada': 1, 'desenvolvida': 1, 'seu': 1, 'momento': 1, 'aha': 1}\n"
          ]
        }
      ]
    },
    {
      "cell_type": "markdown",
      "source": [
        "## Criando plot para visualizar as aparições"
      ],
      "metadata": {
        "id": "t-36rtN5tSb6"
      }
    },
    {
      "cell_type": "code",
      "source": [
        "import pandas as pd\n",
        "import seaborn as sns\n",
        "import matplotlib as mpl\n",
        "import matplotlib.pyplot as plt\n",
        "\n",
        "df = pd.DataFrame(d.items(),  columns=['word', 'count']).sort_values('count',ascending=False)\n",
        "df = df[df['count'] > 3] \n",
        "\n",
        "plt.figure(figsize=(24,10))\n",
        "mpl.style.use(['seaborn'])\n",
        "sns.barplot(x=df.word,y=df['count'])\n",
        "plt.xticks(rotation=90) \n",
        "\n",
        "plt.show()"
      ],
      "metadata": {
        "colab": {
          "base_uri": "https://localhost:8080/",
          "height": 650
        },
        "id": "HQ68v1b8pOdF",
        "outputId": "b6a973d7-d6a7-46b8-c81b-8a6c180540d3"
      },
      "execution_count": 25,
      "outputs": [
        {
          "output_type": "display_data",
          "data": {
            "text/plain": [
              "<Figure size 1728x720 with 1 Axes>"
            ],
            "image/png": "[encoded data removed]"
          },
          "metadata": {
            "needs_background": "light"
          }
        }
      ]
    }
  ]
}